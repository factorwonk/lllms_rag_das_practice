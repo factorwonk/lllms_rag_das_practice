{
 "cells": [
  {
   "cell_type": "markdown",
   "metadata": {},
   "source": [
    "### Import Dependencies\n",
    "---"
   ]
  },
  {
   "cell_type": "code",
   "execution_count": 1,
   "metadata": {},
   "outputs": [],
   "source": [
    "import pandas as pd\n",
    "import faiss\n",
    "\n",
    "from pathlib import Path\n",
    "from transformers import pipeline\n",
    "from langchain_community.docstore.in_memory import InMemoryDocstore\n",
    "from langchain_community.vectorstores import FAISS\n",
    "from langchain_community.document_loaders.csv_loader import CSVLoader\n",
    "from langchain.vectorstores import FAISS\n",
    "from langchain_huggingface import HuggingFaceEmbeddings\n",
    "from langchain_core.prompts import ChatPromptTemplate\n",
    "from langchain.llms import HuggingFacePipeline\n",
    "from langchain.chains import create_retrieval_chain\n",
    "from langchain.chains.combine_documents import create_stuff_documents_chain"
   ]
  },
  {
   "cell_type": "markdown",
   "metadata": {},
   "source": [
    "### Import File Structure\n",
    "---"
   ]
  },
  {
   "cell_type": "code",
   "execution_count": 2,
   "metadata": {},
   "outputs": [],
   "source": [
    "file_path = ('./data/customers-100.csv')"
   ]
  },
  {
   "cell_type": "code",
   "execution_count": 3,
   "metadata": {},
   "outputs": [
    {
     "data": {
      "text/html": [
       "<div>\n",
       "<style scoped>\n",
       "    .dataframe tbody tr th:only-of-type {\n",
       "        vertical-align: middle;\n",
       "    }\n",
       "\n",
       "    .dataframe tbody tr th {\n",
       "        vertical-align: top;\n",
       "    }\n",
       "\n",
       "    .dataframe thead th {\n",
       "        text-align: right;\n",
       "    }\n",
       "</style>\n",
       "<table border=\"1\" class=\"dataframe\">\n",
       "  <thead>\n",
       "    <tr style=\"text-align: right;\">\n",
       "      <th></th>\n",
       "      <th>Index</th>\n",
       "      <th>Customer Id</th>\n",
       "      <th>First Name</th>\n",
       "      <th>Last Name</th>\n",
       "      <th>Company</th>\n",
       "      <th>City</th>\n",
       "      <th>Country</th>\n",
       "      <th>Phone 1</th>\n",
       "      <th>Phone 2</th>\n",
       "      <th>Email</th>\n",
       "      <th>Subscription Date</th>\n",
       "      <th>Website</th>\n",
       "    </tr>\n",
       "  </thead>\n",
       "  <tbody>\n",
       "    <tr>\n",
       "      <th>0</th>\n",
       "      <td>1</td>\n",
       "      <td>DD37Cf93aecA6Dc</td>\n",
       "      <td>Sheryl</td>\n",
       "      <td>Baxter</td>\n",
       "      <td>Rasmussen Group</td>\n",
       "      <td>East Leonard</td>\n",
       "      <td>Chile</td>\n",
       "      <td>229.077.5154</td>\n",
       "      <td>397.884.0519x718</td>\n",
       "      <td>zunigavanessa@smith.info</td>\n",
       "      <td>2020-08-24</td>\n",
       "      <td>http://www.stephenson.com/</td>\n",
       "    </tr>\n",
       "    <tr>\n",
       "      <th>1</th>\n",
       "      <td>2</td>\n",
       "      <td>1Ef7b82A4CAAD10</td>\n",
       "      <td>Preston</td>\n",
       "      <td>Lozano</td>\n",
       "      <td>Vega-Gentry</td>\n",
       "      <td>East Jimmychester</td>\n",
       "      <td>Djibouti</td>\n",
       "      <td>5153435776</td>\n",
       "      <td>686-620-1820x944</td>\n",
       "      <td>vmata@colon.com</td>\n",
       "      <td>2021-04-23</td>\n",
       "      <td>http://www.hobbs.com/</td>\n",
       "    </tr>\n",
       "    <tr>\n",
       "      <th>2</th>\n",
       "      <td>3</td>\n",
       "      <td>6F94879bDAfE5a6</td>\n",
       "      <td>Roy</td>\n",
       "      <td>Berry</td>\n",
       "      <td>Murillo-Perry</td>\n",
       "      <td>Isabelborough</td>\n",
       "      <td>Antigua and Barbuda</td>\n",
       "      <td>+1-539-402-0259</td>\n",
       "      <td>(496)978-3969x58947</td>\n",
       "      <td>beckycarr@hogan.com</td>\n",
       "      <td>2020-03-25</td>\n",
       "      <td>http://www.lawrence.com/</td>\n",
       "    </tr>\n",
       "    <tr>\n",
       "      <th>3</th>\n",
       "      <td>4</td>\n",
       "      <td>5Cef8BFA16c5e3c</td>\n",
       "      <td>Linda</td>\n",
       "      <td>Olsen</td>\n",
       "      <td>Dominguez, Mcmillan and Donovan</td>\n",
       "      <td>Bensonview</td>\n",
       "      <td>Dominican Republic</td>\n",
       "      <td>001-808-617-6467x12895</td>\n",
       "      <td>+1-813-324-8756</td>\n",
       "      <td>stanleyblackwell@benson.org</td>\n",
       "      <td>2020-06-02</td>\n",
       "      <td>http://www.good-lyons.com/</td>\n",
       "    </tr>\n",
       "    <tr>\n",
       "      <th>4</th>\n",
       "      <td>5</td>\n",
       "      <td>053d585Ab6b3159</td>\n",
       "      <td>Joanna</td>\n",
       "      <td>Bender</td>\n",
       "      <td>Martin, Lang and Andrade</td>\n",
       "      <td>West Priscilla</td>\n",
       "      <td>Slovakia (Slovak Republic)</td>\n",
       "      <td>001-234-203-0635x76146</td>\n",
       "      <td>001-199-446-3860x3486</td>\n",
       "      <td>colinalvarado@miles.net</td>\n",
       "      <td>2021-04-17</td>\n",
       "      <td>https://goodwin-ingram.com/</td>\n",
       "    </tr>\n",
       "  </tbody>\n",
       "</table>\n",
       "</div>"
      ],
      "text/plain": [
       "   Index      Customer Id First Name Last Name  \\\n",
       "0      1  DD37Cf93aecA6Dc     Sheryl    Baxter   \n",
       "1      2  1Ef7b82A4CAAD10    Preston    Lozano   \n",
       "2      3  6F94879bDAfE5a6        Roy     Berry   \n",
       "3      4  5Cef8BFA16c5e3c      Linda     Olsen   \n",
       "4      5  053d585Ab6b3159     Joanna    Bender   \n",
       "\n",
       "                           Company               City  \\\n",
       "0                  Rasmussen Group       East Leonard   \n",
       "1                      Vega-Gentry  East Jimmychester   \n",
       "2                    Murillo-Perry      Isabelborough   \n",
       "3  Dominguez, Mcmillan and Donovan         Bensonview   \n",
       "4         Martin, Lang and Andrade     West Priscilla   \n",
       "\n",
       "                      Country                 Phone 1                Phone 2  \\\n",
       "0                       Chile            229.077.5154       397.884.0519x718   \n",
       "1                    Djibouti              5153435776       686-620-1820x944   \n",
       "2         Antigua and Barbuda         +1-539-402-0259    (496)978-3969x58947   \n",
       "3          Dominican Republic  001-808-617-6467x12895        +1-813-324-8756   \n",
       "4  Slovakia (Slovak Republic)  001-234-203-0635x76146  001-199-446-3860x3486   \n",
       "\n",
       "                         Email Subscription Date                      Website  \n",
       "0     zunigavanessa@smith.info        2020-08-24   http://www.stephenson.com/  \n",
       "1              vmata@colon.com        2021-04-23        http://www.hobbs.com/  \n",
       "2          beckycarr@hogan.com        2020-03-25     http://www.lawrence.com/  \n",
       "3  stanleyblackwell@benson.org        2020-06-02   http://www.good-lyons.com/  \n",
       "4      colinalvarado@miles.net        2021-04-17  https://goodwin-ingram.com/  "
      ]
     },
     "execution_count": 3,
     "metadata": {},
     "output_type": "execute_result"
    }
   ],
   "source": [
    "data = pd.read_csv(file_path)\n",
    "data.head()"
   ]
  },
  {
   "cell_type": "code",
   "execution_count": 4,
   "metadata": {},
   "outputs": [],
   "source": [
    "loader = CSVLoader(file_path=file_path)\n",
    "docs = loader.load_and_split()"
   ]
  },
  {
   "cell_type": "code",
   "execution_count": 5,
   "metadata": {},
   "outputs": [],
   "source": [
    "# Initialize Hugging Face embeddings from langchain_huggingface\n",
    "embedding_model = HuggingFaceEmbeddings(model_name=\"sentence-transformers/all-MiniLM-L6-v2\")"
   ]
  },
  {
   "cell_type": "code",
   "execution_count": 6,
   "metadata": {},
   "outputs": [],
   "source": [
    "# Generate an initial FAISS index with the correct embedding dimension\n",
    "# We create a dummy embedding to find the dimension size\n",
    "dummy_embedding = embedding_model.embed_query(\" \")\n",
    "dimension = len(dummy_embedding)\n",
    "index = faiss.IndexFlatL2(dimension)"
   ]
  },
  {
   "cell_type": "code",
   "execution_count": 7,
   "metadata": {},
   "outputs": [],
   "source": [
    "# Initialize the vector store\n",
    "vector_store = FAISS(\n",
    "    embedding_function=embedding_model,\n",
    "    index=index,\n",
    "    docstore=InMemoryDocstore(),\n",
    "    index_to_docstore_id={}\n",
    ")"
   ]
  },
  {
   "cell_type": "code",
   "execution_count": 8,
   "metadata": {},
   "outputs": [
    {
     "data": {
      "text/plain": [
       "['2ef2bb75-93e4-4f14-b7b5-be584b652152',\n",
       " '8d33acc0-78fe-4392-81b8-a5f922cdd5b1',\n",
       " '684b63e7-db9d-4e55-b97f-1995d489c457',\n",
       " 'bb55834e-41b5-468b-baf8-e2de963f802a',\n",
       " '64373394-538e-4504-9215-12168613ec97',\n",
       " 'f174eb74-a231-471f-b495-cfbddc410183',\n",
       " '3aacaba4-b83c-4c44-8df7-20d45d5039c0',\n",
       " '455c751e-e480-4edb-9ca8-9841b33b4221',\n",
       " '32d1e390-167b-438b-a5ff-719f5444777a',\n",
       " '661e7204-845a-4108-8134-dae90cc034d9',\n",
       " 'be17e9df-5463-4371-bfbe-7887e7cc2287',\n",
       " '0a83e6c7-d7e6-4b44-843e-f34e2ac79140',\n",
       " 'eae60e95-d157-451c-9501-d8cb804cde6e',\n",
       " '9c2ed292-850c-441b-bf0d-6e979b542a47',\n",
       " '53468532-5fe3-44cd-8cbc-7331f8d396ae',\n",
       " '053ed2c1-1d2f-4c5a-ab80-370f484c7ecd',\n",
       " '2f521196-cd2f-4583-a4d7-d3af3014f0c5',\n",
       " '0e4d8b84-b9fc-4d1e-90c5-cc3e795f20a6',\n",
       " 'd6958b8a-6256-4c9a-b5db-ab232982190c',\n",
       " '3e3bd6b5-24d2-435a-b572-a8f03fd20839',\n",
       " '07c63f64-a50a-4c4a-af28-ea586317b09b',\n",
       " '397c23fd-4b8a-4236-a164-2bf525b678e6',\n",
       " '87c86b90-7f24-4657-9dd8-a37c54b98cda',\n",
       " 'fab230f4-e631-45e9-961e-f2314d37cf00',\n",
       " 'e3009b0e-0c10-4464-af92-4eeab4476cf8',\n",
       " '79ebccfb-10d7-475a-9010-791f81ebf8b7',\n",
       " '400c7690-4f90-4ced-a956-ebc5139967e6',\n",
       " '90eabb2f-b07a-40d1-8690-95116d5af874',\n",
       " 'dcf37d36-6843-426f-97bc-e8876b52c5eb',\n",
       " '6b9f0497-6a67-4d0f-9c6c-5437345c7826',\n",
       " 'db871354-3934-4f2d-a624-8a01e7b2b89a',\n",
       " '509ece2e-d212-4f07-a2b9-35b86b24fef9',\n",
       " 'f1f85a8c-e137-4ac6-abd6-5e4ffdfc17ae',\n",
       " '889df2b6-6984-4261-ad53-44a41791de62',\n",
       " 'bfb67bbd-bb4d-4af3-8c85-e17f6b78af2f',\n",
       " '7fb42ae1-c6e2-46f7-8fdb-e8266e773f99',\n",
       " '510cd663-fe51-490c-9b65-f04a065edc44',\n",
       " 'f00693bf-474c-4dce-a0e1-9640644aef4f',\n",
       " '9462c9d4-4fa0-4312-b02e-25f3c9f32c38',\n",
       " 'e125f007-dc69-4b9f-9b37-da5c048347c1',\n",
       " 'b1772a65-cc04-48bb-91c8-3c0f3d621ef1',\n",
       " '56d2053e-f64e-4c21-be12-94123395cbe2',\n",
       " '7796c8ec-2eea-4df3-bece-d259e39bc1ef',\n",
       " 'f011089e-6e8e-42fa-89ff-c52d23df9b56',\n",
       " '75318f83-6d14-4123-a912-78dd1185282c',\n",
       " 'd949319b-cf4b-4439-89bf-7a42359a8b9d',\n",
       " '28ab4f91-38a8-457e-841b-783ed85740d7',\n",
       " 'a1ef055a-10d1-4e11-af7b-cf1af5cf8b20',\n",
       " '4ebe4f4e-551b-4851-9f94-974cf9c924dd',\n",
       " 'c542626e-a28d-41e2-9e71-85ced3cdd3a2',\n",
       " '51806a28-4fc2-4009-b220-0403a81a60d4',\n",
       " '7bf4cb59-b03d-4f9e-8cf3-a2c0a2b026f2',\n",
       " '978ac5c3-a33f-44a2-a978-d81d92aab077',\n",
       " '3dafb6ee-d874-4502-9821-e16febd98862',\n",
       " '2d48b1ca-ffa2-4784-8f7e-d672e8ec67a5',\n",
       " '359515dd-dcc5-4169-8fb5-e5e5b109c410',\n",
       " 'c6fb334a-3de4-4935-b79e-85b62c7e8c75',\n",
       " 'b189e9f9-fe05-48bb-9de6-df00c241e27c',\n",
       " '559be324-1719-4fd2-99b9-3cc35b51e814',\n",
       " '2742ed81-b430-493f-8ee9-f0107c01d55e',\n",
       " 'd6bc8ebf-1ee9-4f75-8c23-a835dbe03606',\n",
       " 'ebddf81e-0ace-4845-99bb-0091860fb111',\n",
       " '5ad8eca2-e9e0-4d75-bcf7-de927078de14',\n",
       " 'e2eba491-8f9b-4781-848f-c7643dca7d48',\n",
       " 'e98441fc-c544-479c-b533-b3048878192f',\n",
       " 'b55bb457-9d91-4bb9-9eb5-844bbaa89445',\n",
       " 'ca86f211-5911-4c3d-8f11-cc34cf067e01',\n",
       " '6d34a521-218f-49a7-a31e-a87a4507886b',\n",
       " '151bfedd-9d5d-46e6-b12e-7f9a4c7f12d7',\n",
       " '76782bc4-ba19-4e21-b050-f180dba3957d',\n",
       " '4b0f6820-4e2f-423a-8d0a-6c16d19e2d35',\n",
       " '9dda172e-bdad-49db-9b16-e7a01a690770',\n",
       " 'd9275dca-cb82-4ca5-af04-933d7e5ea82e',\n",
       " 'd1877bac-996d-439a-848a-0e1847f36525',\n",
       " 'add6efa9-9190-4712-89ae-fbb8b89b1e48',\n",
       " '7d6a5a93-2de5-4a9e-b114-b961882cf4f3',\n",
       " '523e05e3-d50e-49f0-aa3a-396bca46f3ce',\n",
       " 'd2b8175b-631e-4b43-a76d-5ca83d910cda',\n",
       " '3082b7e7-c228-4afc-92aa-6bfdd554a17e',\n",
       " '5648cb20-8f50-4833-8641-2533d32a3b98',\n",
       " 'e4f132e3-6d92-420b-bdb8-5c714d678552',\n",
       " '87c0b713-357b-499e-803e-6f262858b3cf',\n",
       " '2fc9971d-7247-4680-8853-84a7c3dd2756',\n",
       " 'a757f6fd-6b98-48a1-a377-8e0b33673aa3',\n",
       " 'a9a99d34-5b5d-4963-842a-ef14a886a6c7',\n",
       " 'df962193-e1d7-4e16-a8ea-04d5145be961',\n",
       " 'f7625729-ccd9-461e-8b6c-bd37e9bf67dd',\n",
       " 'f20b7583-f4c6-444c-bb5b-cac1fadb2275',\n",
       " '6d423b97-385f-4842-98e2-d633519fcc26',\n",
       " 'be90e7a8-17b2-4d7b-8495-7466a81a7811',\n",
       " '4360d7ef-5cfb-4ede-9db2-e65a403fded6',\n",
       " '41d7971d-1f90-43b3-bc70-07894392e299',\n",
       " 'c2988ccd-b9c5-41ea-97e0-0a4d1428bb60',\n",
       " 'a86079b0-d040-40a3-9d11-6e12284664ef',\n",
       " '668eb615-d443-453d-8da5-5e25aeb4da0f',\n",
       " 'cc584c19-cfbf-47a9-bdab-8565802a14c3',\n",
       " 'b02079cc-eb81-4671-9767-c24cdaace7ee',\n",
       " 'd735fa48-137e-4de7-9e26-4075f09b0b84',\n",
       " 'fd7346d1-cab3-403a-bcb5-5fa2cb9f2361',\n",
       " '40ffa468-4dc6-4495-8650-4082f5a177ed']"
      ]
     },
     "execution_count": 8,
     "metadata": {},
     "output_type": "execute_result"
    }
   ],
   "source": [
    "# Add the documents to the FAISS vector store\n",
    "vector_store.add_documents(documents=docs)"
   ]
  },
  {
   "cell_type": "code",
   "execution_count": 9,
   "metadata": {},
   "outputs": [],
   "source": [
    "retriever = vector_store.as_retriever()"
   ]
  },
  {
   "cell_type": "code",
   "execution_count": 10,
   "metadata": {},
   "outputs": [
    {
     "name": "stderr",
     "output_type": "stream",
     "text": [
      "Hardware accelerator e.g. GPU is available in the environment, but no `device` argument is passed to the `Pipeline` object. Model will be on CPU.\n"
     ]
    }
   ],
   "source": [
    "# Initialize the Hugging Face pipeline for question-answering\n",
    "hf_pipeline = pipeline(\"text2text-generation\", model=\"google/flan-t5-small\")"
   ]
  },
  {
   "cell_type": "code",
   "execution_count": 11,
   "metadata": {},
   "outputs": [
    {
     "name": "stderr",
     "output_type": "stream",
     "text": [
      "/var/folders/4f/c9ycdnn56lx6fjnv2my0qwk80000gn/T/ipykernel_34776/3014722759.py:2: LangChainDeprecationWarning: The class `HuggingFacePipeline` was deprecated in LangChain 0.0.37 and will be removed in 1.0. An updated version of the class exists in the :class:`~langchain-huggingface package and should be used instead. To use it run `pip install -U :class:`~langchain-huggingface` and import as `from :class:`~langchain_huggingface import HuggingFacePipeline``.\n",
      "  llm = HuggingFacePipeline(pipeline=hf_pipeline)\n"
     ]
    }
   ],
   "source": [
    "# Wrap the pipeline in HuggingFacePipeline to make it compatible with LangChain\n",
    "llm = HuggingFacePipeline(pipeline=hf_pipeline)"
   ]
  },
  {
   "cell_type": "code",
   "execution_count": 12,
   "metadata": {},
   "outputs": [],
   "source": [
    "# Set up system prompt\n",
    "system_prompt = (\n",
    "    \"You are an assistant for question-answering tasks. \"\n",
    "    \"Use the following pieces of retrieved context to answer \"\n",
    "    \"the question. If you don't know the answer, say that you \"\n",
    "    \"don't know. Use three sentences maximum and keep the \"\n",
    "    \"answer concise.\"\n",
    "    \"\\n\\n\"\n",
    "    \"{context}\"\n",
    ")\n",
    "\n",
    "prompt = ChatPromptTemplate.from_messages([\n",
    "    (\"system\", system_prompt),\n",
    "    (\"human\", \"{input}\"),\n",
    "    \n",
    "])"
   ]
  },
  {
   "cell_type": "code",
   "execution_count": 13,
   "metadata": {},
   "outputs": [],
   "source": [
    "# Create the question-answer chain\n",
    "question_answer_chain = create_stuff_documents_chain(llm, prompt)\n",
    "rag_chain = create_retrieval_chain(retriever, question_answer_chain)"
   ]
  },
  {
   "cell_type": "code",
   "execution_count": 15,
   "metadata": {},
   "outputs": [
    {
     "name": "stderr",
     "output_type": "stream",
     "text": [
      "/Users/adas/miniconda3/envs/lllms/lib/python3.12/site-packages/transformers/generation/utils.py:1220: UserWarning: Using the model-agnostic default `max_length` (=20) to control the generation length. We recommend setting `max_new_tokens` to control the maximum length of the generation.\n",
      "  warnings.warn(\n"
     ]
    },
    {
     "data": {
      "text/plain": [
       "'Rasmussen Group City'"
      ]
     },
     "execution_count": 15,
     "metadata": {},
     "output_type": "execute_result"
    }
   ],
   "source": [
    "answer = rag_chain.invoke({\"input\": \"which company does sheryl Baxter work for?\"})\n",
    "answer['answer']"
   ]
  },
  {
   "cell_type": "code",
   "execution_count": 16,
   "metadata": {},
   "outputs": [
    {
     "name": "stderr",
     "output_type": "stream",
     "text": [
      "/Users/adas/miniconda3/envs/lllms/lib/python3.12/site-packages/transformers/generation/utils.py:1220: UserWarning: Using the model-agnostic default `max_length` (=20) to control the generation length. We recommend setting `max_new_tokens` to control the maximum length of the generation.\n",
      "  warnings.warn(\n"
     ]
    },
    {
     "data": {
      "text/plain": [
       "'Chile'"
      ]
     },
     "execution_count": 16,
     "metadata": {},
     "output_type": "execute_result"
    }
   ],
   "source": [
    "answer = rag_chain.invoke({\"input\": \"which country does sheryl Baxter live in?\"})\n",
    "answer['answer']"
   ]
  },
  {
   "cell_type": "code",
   "execution_count": null,
   "metadata": {},
   "outputs": [],
   "source": []
  }
 ],
 "metadata": {
  "kernelspec": {
   "display_name": "lllms",
   "language": "python",
   "name": "python3"
  },
  "language_info": {
   "codemirror_mode": {
    "name": "ipython",
    "version": 3
   },
   "file_extension": ".py",
   "mimetype": "text/x-python",
   "name": "python",
   "nbconvert_exporter": "python",
   "pygments_lexer": "ipython3",
   "version": "3.12.2"
  }
 },
 "nbformat": 4,
 "nbformat_minor": 2
}
